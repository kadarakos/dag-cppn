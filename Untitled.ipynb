{
 "cells": [
  {
   "cell_type": "code",
   "execution_count": 370,
   "metadata": {},
   "outputs": [],
   "source": [
    "# https://github.com/paraschopra/abstract-art-neural-network/blob/master/generate-art.ipynb\n",
    "# http://blog.otoro.net/2015/07/31/neurogram/\n",
    "# https://github.com/hardmaru/neurogram/blob/master/src/lib/netart.js\n",
    "# https://github.com/hardmaru/neurogram/blob/master/src/lib/netart.js#L254"
   ]
  },
  {
   "cell_type": "code",
   "execution_count": 143,
   "metadata": {},
   "outputs": [
    {
     "name": "stdout",
     "output_type": "stream",
     "text": [
      "Populating the interactive namespace from numpy and matplotlib\n"
     ]
    }
   ],
   "source": [
    "%pylab inline"
   ]
  },
  {
   "cell_type": "code",
   "execution_count": 186,
   "metadata": {},
   "outputs": [],
   "source": [
    "import random\n",
    "import math\n",
    "import secrets\n",
    "\n",
    "random.seed(2777)"
   ]
  },
  {
   "cell_type": "code",
   "execution_count": 409,
   "metadata": {},
   "outputs": [],
   "source": [
    "#TODO numerically unstable\n",
    "def identity(x):\n",
    "    return x\n",
    "\n",
    "def sigmoid(x):\n",
    "    return 1 / (1 + math.exp(-x))\n",
    "\n",
    "def sine(x):\n",
    "    return math.sin(x)\n",
    "\n",
    "def cosine(x):\n",
    "    return math.cos(x)\n",
    "\n",
    "def square(x):\n",
    "    return x ** 2\n",
    "\n",
    "#TODO numerically unstable\n",
    "def tanh(x):\n",
    "    return (math.exp(2 * x) - 1) / (math.exp(2 * x) + 1) \n",
    "\n",
    "def abstanh(x):\n",
    "    return abs(tanh(x))\n",
    "\n",
    "def relu(x):\n",
    "    return max(0, x)\n",
    "\n",
    "def soft_plus(x):\n",
    "    return math.log(1.0 + math.exp(x))\n",
    "\n",
    "def gen_name(prefix):\n",
    "    return prefix + secrets.token_urlsafe(6)\n",
    "    \n",
    "def createInputVec(x,y):\n",
    "    r = math.sqrt(((x*scale-(img_size*scale/2))**2) + ((y*scale-(img_size*scale/2))**2) )\n",
    "    return x * scale, y * scale, r\n",
    "\n",
    "activation_functions = [sigmoid, tanh, sine, square, cosine, identity]"
   ]
  },
  {
   "cell_type": "code",
   "execution_count": 410,
   "metadata": {},
   "outputs": [],
   "source": [
    "class Node(object):\n",
    "    def __init__(self, idx, func):\n",
    "        self.idx = idx\n",
    "        self.func = func\n",
    "        self.inputs = []\n",
    "        self.out_edges = []\n",
    "    \n",
    "    def add_outedge(self, edge):\n",
    "        self.out_edges.append(edge)\n",
    "    \n",
    "    def add_input(self, x):\n",
    "        self.inputs.append(x)\n",
    "    \n",
    "    def propagate(self):\n",
    "        x = self.func(sum(self.inputs))\n",
    "        self.inputs = []\n",
    "        return x\n",
    "    \n",
    "    def __str__(self):\n",
    "        return \"{}-{}\".format(self.idx, str(self.func.__name__))\n",
    "    \n",
    "    \n",
    "class Edge(object):\n",
    "    def __init__(self, idx, parent, child, weight):\n",
    "        self.idx = idx\n",
    "        self.parent = parent\n",
    "        self.child = child\n",
    "        self.weight = weight\n",
    "    \n",
    "    def propagate(self):\n",
    "        x = self.parent.propagate()\n",
    "        x += self.weight\n",
    "        self.child.add_input(x)"
   ]
  },
  {
   "cell_type": "code",
   "execution_count": 434,
   "metadata": {},
   "outputs": [],
   "source": [
    "class Network(object):\n",
    "    def __init__(self):\n",
    "        self.layers = [[], [], []]\n",
    "        self.nodes = []\n",
    "        self.edges = []\n",
    "        self.networkx_graph = None\n",
    "    \n",
    "    def gen_weight(self, mu=0, sigma=1):\n",
    "        w = random.gauss(mu, sigma)\n",
    "        return w\n",
    "    \n",
    "    def gen_node(self, layer):\n",
    "        node_idx = \"{}-{}\".format(layer, len(self.nodes))\n",
    "        f = random.choice(activation_functions)\n",
    "        return Node(node_idx, f)\n",
    "\n",
    "    def add_node(self, node, layer):\n",
    "        self.nodes.append(node)\n",
    "        self.layers[layer].append(node)\n",
    "        \n",
    "    def add_edge(self, parent, child):\n",
    "        w = self.gen_weight()\n",
    "        edge = Edge(\"bubu\", parent, child, w)\n",
    "        parent.add_outedge(edge)\n",
    "        self.edges.append(edge)\n",
    "    \n",
    "    def add_layer(self):\n",
    "        layers = [[]] * len(self.layers)\n",
    "        for i, l in enumarate(self.layers):\n",
    "            layers[i] = l\n",
    "            pass\n",
    "        \n",
    "            \n",
    "    def add_random_node(self):\n",
    "        l = random.randint(1, len(self.layers) - 1)\n",
    "        n = gen_node(l)\n",
    "        self.add_node(n, l)\n",
    "\n",
    "    \n",
    "    def add_random_edge(self, weight=False):\n",
    "        if not weight:\n",
    "            weight = gen_weight()\n",
    "        # Child layer\n",
    "        layer2 = random.randint(0, len(self.layers) - 2)\n",
    "        # Parent layer\n",
    "        layer1 = random.randint(0, layer2)\n",
    "        edge_idx = \"{}-{}-{}\".format(layer1, \n",
    "                                    layer2, \n",
    "                                    len(self.edges))\n",
    "        parent = random.choice(self.layers[layer1])\n",
    "        child = random.choice(self.layers[layer2])\n",
    "        edge = Edge(edge_idx, parent, child, weight)\n",
    "        parent.add_outedge(edge)\n",
    "        self.edges.append(edge)\n",
    "        \n",
    "    # Add Input nodes, hidden nodes and an output node\n",
    "    # Each hidden node is connected to the output\n",
    "    # Each input node can be either connected to the hidden or output or both.\n",
    "    # Make sure each hidden node has at least one input node connected\n",
    "    def initialize(self, n_hidden=False):\n",
    "        if not n_hidden:\n",
    "            n_hidden = random.randint(1, 10)\n",
    "        # Add output node, calues between 0-1\n",
    "        output_node = Node('output', sigmoid)\n",
    "        self.add_node(output_node, 2)\n",
    "        # Add input nodes\n",
    "        input_nodes = []\n",
    "        for i, idx in enumerate(['x', 'y', 'r']):\n",
    "            n = Node(idx, random.choice(activation_functions))\n",
    "            self.add_node(n, 0)\n",
    "        # Add hidden nodes and connect to output    \n",
    "        for i in range(n_hidden): \n",
    "            n = self.gen_node(1)\n",
    "            self.add_node(n, 1)\n",
    "            self.add_edge(n, output_node)\n",
    "        #Connect each input node to some higher node\n",
    "        #To make sure the output node is reachable\n",
    "        for n in self.layers[0]:\n",
    "            target_node = random.choice(self.layers[1] + self.layers[2])\n",
    "            self.add_edge(n, target_node)\n",
    "        #If there is a remaining hidden nodes not connected to\n",
    "        #input do connect it\n",
    "        connected_hidden = set()\n",
    "        for n in self.layers[0]:\n",
    "            for e in n.out_edges:\n",
    "                connected_hidden.add(e.child)\n",
    "        empty_hidden = set(self.layers[1]) - connected_hidden\n",
    "        for n in empty_hidden:\n",
    "            source = random.choice(self.layers[0])\n",
    "            self.add_edge(source, n)\n",
    "    \n",
    "    def forward_propagate(self, x, y, r):\n",
    "        self.layers[0][0].add_input(x)\n",
    "        self.layers[0][1].add_input(y)\n",
    "        self.layers[0][2].add_input(r)\n",
    "        for l in self.layers:\n",
    "            for n in l:\n",
    "                for e in n.out_edges:\n",
    "                    e.propagate()\n",
    "        return self.layers[-1][0].propagate()\n",
    "    \n",
    "    # Might never even do this :D\n",
    "    def backward_propagate():\n",
    "        raise NotImplementedError"
   ]
  },
  {
   "cell_type": "code",
   "execution_count": 435,
   "metadata": {},
   "outputs": [],
   "source": [
    "network = Network()"
   ]
  },
  {
   "cell_type": "code",
   "execution_count": 436,
   "metadata": {},
   "outputs": [],
   "source": [
    "network.initialize(n_hidden=12)"
   ]
  },
  {
   "cell_type": "code",
   "execution_count": 437,
   "metadata": {},
   "outputs": [
    {
     "name": "stdout",
     "output_type": "stream",
     "text": [
      "0 0 x-tanh\n",
      "0 1 y-sine\n",
      "0 2 r-identity\n",
      "1 0 1-4-tanh\n",
      "1 1 1-5-cosine\n",
      "1 2 1-6-sine\n",
      "1 3 1-7-identity\n",
      "1 4 1-8-square\n",
      "1 5 1-9-tanh\n",
      "1 6 1-10-cosine\n",
      "1 7 1-11-tanh\n",
      "1 8 1-12-tanh\n",
      "1 9 1-13-square\n",
      "1 10 1-14-tanh\n",
      "1 11 1-15-sine\n",
      "2 0 output-sigmoid\n"
     ]
    }
   ],
   "source": [
    "for i, l in enumerate(network.layers):\n",
    "    for j, n in enumerate(l):\n",
    "        print(i, j, n)"
   ]
  },
  {
   "cell_type": "code",
   "execution_count": 438,
   "metadata": {},
   "outputs": [
    {
     "name": "stdout",
     "output_type": "stream",
     "text": [
      "x-tanh -0.016465670478514993 1-11-tanh\n",
      "x-tanh -1.0022510237501039 1-15-sine\n",
      "x-tanh -0.3877747352554092 1-5-cosine\n",
      "x-tanh 1.041454305619748 1-6-sine\n",
      "x-tanh -0.4913039952175302 1-4-tanh\n",
      "x-tanh -0.15744060775985128 1-10-cosine\n",
      "y-sine 0.6818884861709649 1-13-square\n",
      "y-sine 0.5320005574860344 1-8-square\n",
      "r-identity 0.40371263279249536 1-7-identity\n",
      "r-identity -1.213410826936224 1-14-tanh\n",
      "r-identity 0.3496597517105414 1-12-tanh\n",
      "r-identity -0.03405302986200264 1-9-tanh\n",
      "1-4-tanh -0.25431833520863917 output-sigmoid\n",
      "1-5-cosine 0.6967072269494581 output-sigmoid\n",
      "1-6-sine 0.17520431786406557 output-sigmoid\n",
      "1-7-identity -0.9249174095913473 output-sigmoid\n",
      "1-8-square -2.8607401628141558 output-sigmoid\n",
      "1-9-tanh 1.1691205596556447 output-sigmoid\n",
      "1-10-cosine -0.4056425036679554 output-sigmoid\n",
      "1-11-tanh 0.8910678991300442 output-sigmoid\n",
      "1-12-tanh -0.5026286173248893 output-sigmoid\n",
      "1-13-square -0.3774315014312946 output-sigmoid\n",
      "1-14-tanh -0.372162397435221 output-sigmoid\n",
      "1-15-sine -0.2850617177147637 output-sigmoid\n"
     ]
    }
   ],
   "source": [
    "for i, l in enumerate(network.layers):\n",
    "    for j, n in enumerate(l):\n",
    "        for e in n.out_edges:\n",
    "            print(e.parent, e.weight, e.child)"
   ]
  },
  {
   "cell_type": "code",
   "execution_count": 439,
   "metadata": {},
   "outputs": [
    {
     "data": {
      "text/plain": [
       "0.4346878011619027"
      ]
     },
     "execution_count": 439,
     "metadata": {},
     "output_type": "execute_result"
    }
   ],
   "source": [
    "network.forward_propagate(0.1,0.2,0.3)"
   ]
  },
  {
   "cell_type": "code",
   "execution_count": 440,
   "metadata": {},
   "outputs": [],
   "source": [
    "img_size = 256\n",
    "image = np.zeros((img_size, img_size))\n",
    "scale = 0.2\n",
    "factor = img_size/scale\n",
    "for i in range(img_size):\n",
    "    for j in range(img_size):\n",
    "        x = i/factor - 0.5 * scale\n",
    "        y = j/factor - 0.5 * scale\n",
    "        r = math.sqrt(x**2 + y**2)\n",
    "        image[i,j] = network.forward_propagate(x, y, r)"
   ]
  },
  {
   "cell_type": "code",
   "execution_count": 441,
   "metadata": {},
   "outputs": [
    {
     "data": {
      "text/plain": [
       "<matplotlib.image.AxesImage at 0x7feec774f4a8>"
      ]
     },
     "execution_count": 441,
     "metadata": {},
     "output_type": "execute_result"
    },
    {
     "data": {
      "image/png": "[encoded data removed]",
      "text/plain": [
       "<Figure size 432x288 with 1 Axes>"
      ]
     },
     "metadata": {
      "needs_background": "light"
     },
     "output_type": "display_data"
    }
   ],
   "source": [
    "imshow(image)"
   ]
  },
  {
   "cell_type": "code",
   "execution_count": null,
   "metadata": {},
   "outputs": [],
   "source": []
  }
 ],
 "metadata": {
  "kernelspec": {
   "display_name": "Python 3",
   "language": "python",
   "name": "python3"
  },
  "language_info": {
   "codemirror_mode": {
    "name": "ipython",
    "version": 3
   },
   "file_extension": ".py",
   "mimetype": "text/x-python",
   "name": "python",
   "nbconvert_exporter": "python",
   "pygments_lexer": "ipython3",
   "version": "3.6.8"
  }
 },
 "nbformat": 4,
 "nbformat_minor": 2
}
