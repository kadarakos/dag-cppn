{
 "cells": [
  {
   "cell_type": "code",
   "execution_count": 1,
   "metadata": {},
   "outputs": [],
   "source": [
    "# https://github.com/paraschopra/abstract-art-neural-network/blob/master/generate-art.ipynb\n",
    "# http://blog.otoro.net/2015/07/31/neurogram/\n",
    "# https://github.com/hardmaru/neurogram/blob/master/src/lib/netart.js\n",
    "# https://github.com/hardmaru/neurogram/blob/master/src/lib/netart.js#L254"
   ]
  },
  {
   "cell_type": "code",
   "execution_count": 2,
   "metadata": {},
   "outputs": [
    {
     "name": "stdout",
     "output_type": "stream",
     "text": [
      "Populating the interactive namespace from numpy and matplotlib\n"
     ]
    }
   ],
   "source": [
    "%pylab inline"
   ]
  },
  {
   "cell_type": "code",
   "execution_count": 3,
   "metadata": {},
   "outputs": [],
   "source": [
    "import random\n",
    "import math\n",
    "import secrets\n",
    "from utils import build_networkx_graph, plot_network\n",
    "import networkx as nx\n",
    "\n",
    "random.seed(2777)"
   ]
  },
  {
   "cell_type": "code",
   "execution_count": 4,
   "metadata": {},
   "outputs": [],
   "source": [
    "#TODO numerically unstable\n",
    "def identity(x):\n",
    "    return x\n",
    "\n",
    "def sigmoid(x):\n",
    "    return 1 / (1 + math.exp(-x))\n",
    "\n",
    "def sine(x):\n",
    "    return math.sin(x)\n",
    "\n",
    "def cosine(x):\n",
    "    return math.cos(x)\n",
    "\n",
    "def square(x):\n",
    "    return x ** 2\n",
    "\n",
    "#TODO numerically unstable\n",
    "def tanh(x):\n",
    "    return (math.exp(2 * x) - 1) / (math.exp(2 * x) + 1) \n",
    "\n",
    "def abstanh(x):\n",
    "    return abs(tanh(x))\n",
    "\n",
    "def relu(x):\n",
    "    return max(0, x)\n",
    "\n",
    "def soft_plus(x):\n",
    "    return math.log(1.0 + math.exp(x))\n",
    "\n",
    "def gen_name(prefix=''):\n",
    "    return prefix + secrets.token_urlsafe(4)\n",
    "    \n",
    "\n",
    "activation_functions = [sigmoid, tanh, sine, square, cosine, identity]"
   ]
  },
  {
   "cell_type": "code",
   "execution_count": 5,
   "metadata": {},
   "outputs": [],
   "source": [
    "class Node(object):\n",
    "    def __init__(self, idx, func):\n",
    "        self.idx = idx\n",
    "        self.func = func\n",
    "        self.inputs = []\n",
    "        self.out_edges = {}\n",
    "    \n",
    "    def add_outedge(self, edge):\n",
    "        self.out_edges[edge.idx] = edge\n",
    "        \n",
    "    def disconnect(self, edge):\n",
    "        del self.out_edges[edge.idx]\n",
    "    \n",
    "    def add_input(self, x):\n",
    "        self.inputs.append(x)\n",
    "    \n",
    "    def propagate(self):\n",
    "        x = self.func(sum(self.inputs))\n",
    "        self.inputs = []\n",
    "        return x\n",
    "    \n",
    "    def __str__(self):\n",
    "        return \"{}-{}\".format(self.idx, str(self.func.__name__))\n",
    "    \n",
    "    \n",
    "class Edge(object):\n",
    "    def __init__(self, idx, parent, child, weight):\n",
    "        self.idx = idx\n",
    "        self.parent = parent\n",
    "        self.child = child\n",
    "        self.weight = weight\n",
    "    \n",
    "    def propagate(self):\n",
    "        x = self.parent.propagate()\n",
    "        x += self.weight\n",
    "        self.child.add_input(x)"
   ]
  },
  {
   "cell_type": "code",
   "execution_count": 67,
   "metadata": {},
   "outputs": [],
   "source": [
    "class Network(object):\n",
    "    def __init__(self):\n",
    "        self.layers = [[], [], []]\n",
    "        self.nodes = {}\n",
    "        self.edges = {}\n",
    "        self.networkx_graph = None\n",
    "    \n",
    "    def gen_weight(self, mu=0, sigma=1):\n",
    "        w = random.gauss(mu, sigma)\n",
    "        return w\n",
    "    \n",
    "    def gen_node(self, layer):\n",
    "        node_idx = gen_name(\"neuron-\")\n",
    "        f = random.choice(activation_functions)\n",
    "        return Node(node_idx, f)\n",
    "\n",
    "    def add_node(self, node, layer):\n",
    "        self.nodes[node.idx] = node\n",
    "        self.layers[layer].append(node)\n",
    "        \n",
    "    def add_edge(self, parent, child):\n",
    "        w = self.gen_weight()\n",
    "        idx = gen_name(\"edge-\")\n",
    "        edge = Edge(idx, parent, child, w)\n",
    "        parent.add_outedge(edge)\n",
    "        self.edges[edge.idx] = edge\n",
    "    \n",
    "    def add_layer(self):\n",
    "        place = random.randint(1, \n",
    "                               len(self.layers) - 1)\n",
    "        layers = [[]] * (len(self.layers) + 1)\n",
    "        for i, l in enumerate(self.layers[:-1]):\n",
    "            layers[i] = l\n",
    "        layers[-1] = self.layers[-1]\n",
    "        layers[place], layers[-2] = layers[-2], layers[place]\n",
    "        self.layers = layers\n",
    "        self.add_random_node(place)\n",
    "        \n",
    "    def add_random_node(self, l=None):\n",
    "        # Generate random node and add it to the list\n",
    "        if not l:\n",
    "            l = random.randint(1, len(self.layers) - 2)\n",
    "        n = self.gen_node(l)\n",
    "        self.add_node(n, l)\n",
    "        # Connect it to the layer above\n",
    "        target = random.choice(self.layers[l+1])\n",
    "        self.add_edge(n, target)\n",
    "        # Connect it to lower layer\n",
    "        source = random.choice(self.layers[l-1])\n",
    "        self.add_edge(source, n)\n",
    "        # if the source and target were connected\n",
    "        # put the new node in between them\n",
    "        for name, e in source.out_edges.items():\n",
    "            if e.child == target:   \n",
    "                # Create new edge\n",
    "                source.disconnect(e)\n",
    "                self.add_edge(source, n)\n",
    "        \n",
    "    def add_random_edge(self, weight=False):\n",
    "        if not weight:\n",
    "            weight = gen_weight()\n",
    "        # Child layer\n",
    "        layer2 = random.randint(0, len(self.layers) - 2)\n",
    "        # Parent layer\n",
    "        layer1 = random.randint(0, layer2)\n",
    "        edge_idx = gen_name('edge--')\n",
    "        parent = random.choice(self.layers[layer1])\n",
    "        child = random.choice(self.layers[layer2])\n",
    "        edge = Edge(edge_idx, parent, child, weight)\n",
    "        parent.add_outedge(edge)\n",
    "        self.edges[edge.idx] = edge\n",
    "        \n",
    "    # Add Input nodes, hidden nodes and an output node\n",
    "    # Each hidden node is connected to the output\n",
    "    # Each input node can be either connected to the hidden or output or both.\n",
    "    # Make sure each hidden node has at least one input node connected\n",
    "    def initialize(self):\n",
    "        # Add output node, calues between 0-1\n",
    "        output_node = Node('output', sigmoid)\n",
    "        self.add_node(output_node, 2)\n",
    "        # Add input nodes\n",
    "        input_nodes = []\n",
    "        for i, idx in enumerate(['input-x', 'input-y', 'input-r']):\n",
    "            n = Node(idx, random.choice(activation_functions))\n",
    "            self.add_node(n, 0)\n",
    "        # Add hidden nodes and connect to output    \n",
    "        hidden_node = self.gen_node(1)\n",
    "        self.add_node(hidden_node, 1)\n",
    "        self.add_edge(hidden_node, output_node)\n",
    "        #Connect each input node to the hidden node and maybe to output\n",
    "        for n in self.layers[0]:\n",
    "            self.add_edge(n, hidden_node)\n",
    "            if random.choice([0, 1]) == 1:\n",
    "                self.add_edge(n, output_node)\n",
    "    \n",
    "    def forward_propagate(self, x, y, r):\n",
    "        self.layers[0][0].add_input(x)\n",
    "        self.layers[0][1].add_input(y)\n",
    "        self.layers[0][2].add_input(r)\n",
    "        for l in self.layers:\n",
    "            for n in l:\n",
    "                for idx, e in n.out_edges.items():\n",
    "                    e.propagate()\n",
    "        return self.layers[-1][0].propagate()\n",
    "    \n",
    "    # Might never even do this :D\n",
    "    def backward_propagate():\n",
    "        raise NotImplementedError"
   ]
  },
  {
   "cell_type": "code",
   "execution_count": 68,
   "metadata": {},
   "outputs": [],
   "source": [
    "network = Network()"
   ]
  },
  {
   "cell_type": "code",
   "execution_count": 69,
   "metadata": {},
   "outputs": [],
   "source": [
    "network.initialize()"
   ]
  },
  {
   "cell_type": "code",
   "execution_count": 70,
   "metadata": {},
   "outputs": [
    {
     "name": "stdout",
     "output_type": "stream",
     "text": [
      "0 0 input-x-identity\n",
      "0 1 input-y-sigmoid\n",
      "0 2 input-r-square\n",
      "1 0 neuron-2XE7Jw-sine\n",
      "2 0 output-sigmoid\n"
     ]
    }
   ],
   "source": [
    "for i, l in enumerate(network.layers):\n",
    "    for j, n in enumerate(l):\n",
    "        print(i, j, n)"
   ]
  },
  {
   "cell_type": "code",
   "execution_count": 74,
   "metadata": {},
   "outputs": [
    {
     "data": {
      "text/plain": [
       "[[<__main__.Node at 0x7f03f07b1438>,\n",
       "  <__main__.Node at 0x7f03f07b1518>,\n",
       "  <__main__.Node at 0x7f03f07b1358>],\n",
       " [<__main__.Node at 0x7f03f07d2208>],\n",
       " [<__main__.Node at 0x7f03f07b13c8>],\n",
       " [<__main__.Node at 0x7f03f07b14a8>]]"
      ]
     },
     "execution_count": 74,
     "metadata": {},
     "output_type": "execute_result"
    }
   ],
   "source": [
    "network.layers"
   ]
  },
  {
   "cell_type": "code",
   "execution_count": 75,
   "metadata": {},
   "outputs": [],
   "source": [
    "network.add_layer()"
   ]
  },
  {
   "cell_type": "code",
   "execution_count": 93,
   "metadata": {},
   "outputs": [
    {
     "name": "stdout",
     "output_type": "stream",
     "text": [
      "input-x-identity -0.2678528627404714 neuron-2XE7Jw-sine\n",
      "input-x-identity 2.922419293768796 neuron-GZuKTA-sigmoid\n",
      "input-x-identity 0.8296536214697793 neuron-ZKUhBQ-cosine\n",
      "input-y-sigmoid 0.2174453099219284 neuron-2XE7Jw-sine\n",
      "input-y-sigmoid 0.8458220428906456 output-sigmoid\n",
      "input-y-sigmoid 0.3569480772913757 neuron-jq3cyQ-sigmoid\n",
      "input-r-square 0.4872496006420735 neuron-0vLilQ-sigmoid\n",
      "input-r-square 1.4390384351578223 neuron-0vLilQ-sigmoid\n",
      "input-r-square -0.4069697312752638 neuron-RDZDkA-sine\n",
      "neuron-0vLilQ-sigmoid 0.8297169271750646 neuron-V6XxhQ-sigmoid\n",
      "neuron-0vLilQ-sigmoid -2.09465410950528 neuron-V6XxhQ-sigmoid\n",
      "neuron-GZuKTA-sigmoid 0.048661818001112835 neuron-V6XxhQ-sigmoid\n",
      "neuron-ZKUhBQ-cosine -1.397843725932386 neuron-V6XxhQ-sigmoid\n",
      "neuron-RDZDkA-sine -0.2876190161432642 neuron-V6XxhQ-sigmoid\n",
      "neuron-jq3cyQ-sigmoid -0.7111729624507467 neuron-V6XxhQ-sigmoid\n",
      "neuron-jq3cyQ-sigmoid -0.6057386276307969 neuron-SbtFSQ-identity\n",
      "neuron-V6XxhQ-sigmoid 0.5700828252142564 neuron-2XE7Jw-sine\n",
      "neuron-SbtFSQ-identity 0.5803741716238463 neuron-2XE7Jw-sine\n",
      "neuron-SbtFSQ-identity 0.6548583597254084 neuron-EYOcoQ-sigmoid\n",
      "neuron-2XE7Jw-sine 0.23483776990507307 output-sigmoid\n",
      "neuron-EYOcoQ-sigmoid -1.0242202032472587 output-sigmoid\n"
     ]
    }
   ],
   "source": [
    "for i, l in enumerate(network.layers):\n",
    "    for j, n in enumerate(l):\n",
    "        for idx, e in n.out_edges.items():\n",
    "            print(e.parent, e.weight, e.child)"
   ]
  },
  {
   "cell_type": "code",
   "execution_count": 100,
   "metadata": {},
   "outputs": [],
   "source": [
    "network.add_layer()"
   ]
  },
  {
   "cell_type": "code",
   "execution_count": 115,
   "metadata": {},
   "outputs": [],
   "source": [
    "network.add_random_node()"
   ]
  },
  {
   "cell_type": "code",
   "execution_count": null,
   "metadata": {},
   "outputs": [],
   "source": [
    "network.forward_propagate(0.1,0.2,0.3)"
   ]
  },
  {
   "cell_type": "code",
   "execution_count": null,
   "metadata": {},
   "outputs": [],
   "source": [
    "img_size = 256\n",
    "image = np.zeros((img_size, img_size))\n",
    "scale = 0.2\n",
    "factor = img_size/scale\n",
    "for i in range(img_size):\n",
    "    for j in range(img_size):\n",
    "        x = i/factor - 0.5 * scale\n",
    "        y = j/factor - 0.5 * scale\n",
    "        r = math.sqrt(x**2 + y**2)\n",
    "        image[i,j] = network.forward_propagate(x, y, r)"
   ]
  },
  {
   "cell_type": "code",
   "execution_count": 91,
   "metadata": {},
   "outputs": [
    {
     "data": {
      "text/plain": [
       "<matplotlib.image.AxesImage at 0x7f03ef8defd0>"
      ]
     },
     "execution_count": 91,
     "metadata": {},
     "output_type": "execute_result"
    },
    {
     "data": {
      "image/png": "[encoded data removed]",
      "text/plain": [
       "<Figure size 432x288 with 1 Axes>"
      ]
     },
     "metadata": {
      "needs_background": "light"
     },
     "output_type": "display_data"
    }
   ],
   "source": [
    "imshow(image)"
   ]
  },
  {
   "cell_type": "code",
   "execution_count": 116,
   "metadata": {},
   "outputs": [
    {
     "data": {
      "application/vnd.plotly.v1+json": {
       "config": {
        "plotlyServerURL": "https://plot.ly"
       },
       "data": [
        {
         "hoverinfo": "none",
         "line": {
          "color": "#888",
          "width": 0.5
         },
         "mode": "lines",
         "type": "scatter",
         "x": [
          0.42805539188498126,
          0.48977759204971055,
          null,
          0.42805539188498126,
          0.765967238989913,
          null,
          0.42805539188498126,
          0.38763565024664526,
          null,
          0.42805539188498126,
          0.005658459904989717,
          null,
          0.42805539188498126,
          0.46461200625681887,
          null,
          0.42805539188498126,
          0.11891310336749136,
          null,
          0.42805539188498126,
          0.3800500943122154,
          null,
          0.48977759204971055,
          0.38763565024664526,
          null,
          0.48977759204971055,
          0.04833023540707358,
          null,
          0.48977759204971055,
          -0.1601787137845169,
          null,
          0.48977759204971055,
          -0.030294036650030633,
          null,
          0.48977759204971055,
          0.8918158706049671,
          null,
          0.48977759204971055,
          1,
          null,
          0.48977759204971055,
          0.8656573101368842,
          null,
          0.765967238989913,
          0.6981790371550587,
          null,
          0.765967238989913,
          0.29637600560688604,
          null,
          0.38763565024664526,
          0.6186050082396485,
          null,
          0.005658459904989717,
          0.46461200625681887,
          null,
          0.005658459904989717,
          -0.15552765808043836,
          null,
          0.005658459904989717,
          -0.534047258348005,
          null,
          0.46461200625681887,
          0.11891310336749136,
          null,
          0.46461200625681887,
          0.8918158706049671,
          null,
          0.11891310336749136,
          0.6981790371550587,
          null,
          0.11891310336749136,
          0.29637600560688604,
          null,
          0.11891310336749136,
          -0.15552765808043836,
          null,
          0.11891310336749136,
          0.6186050082396485,
          null,
          0.11891310336749136,
          -0.5100798226223486,
          null,
          0.11891310336749136,
          -0.534047258348005,
          null,
          -0.15552765808043836,
          -0.3145400778382757,
          null,
          -0.15552765808043836,
          -0.4876342278010679,
          null,
          0.6186050082396485,
          0.3800500943122154,
          null,
          0.6186050082396485,
          1,
          null,
          0.3800500943122154,
          0.04833023540707358,
          null,
          0.3800500943122154,
          0.5303739020891074,
          null,
          0.3800500943122154,
          -0.11703795276748143,
          null,
          0.04833023540707358,
          -0.5100798226223486,
          null,
          0.04833023540707358,
          -0.1601787137845169,
          null,
          0.04833023540707358,
          -0.3182773646284669,
          null,
          0.04833023540707358,
          0.5303739020891074,
          null,
          0.04833023540707358,
          -0.11703795276748143,
          null,
          0.04833023540707358,
          0.1122958009875676,
          null,
          0.04833023540707358,
          -0.2265917754251587,
          null,
          -0.5100798226223486,
          -0.5178921276797381,
          null,
          -0.5100798226223486,
          -0.9798719548834343,
          null,
          -0.5100798226223486,
          -0.7668503621953687,
          null,
          -0.5100798226223486,
          -0.8806350414550231,
          null,
          -0.1601787137845169,
          -0.030294036650030633,
          null,
          -0.1601787137845169,
          -0.5178921276797381,
          null,
          -0.1601787137845169,
          -0.6417814763260807,
          null,
          -0.030294036650030633,
          -0.3182773646284669,
          null,
          -0.030294036650030633,
          0.1122958009875676,
          null,
          -0.030294036650030633,
          -0.2265917754251587,
          null,
          -0.030294036650030633,
          -0.3646015388472938,
          null,
          -0.534047258348005,
          -0.9798719548834343,
          null,
          -0.534047258348005,
          -0.7668503621953687,
          null,
          -0.534047258348005,
          -0.8806350414550231,
          null,
          -0.5178921276797381,
          -0.33206734115653935,
          null,
          -0.5178921276797381,
          -0.7643939767506918,
          null,
          -0.5178921276797381,
          -0.3646015388472938,
          null,
          -0.3182773646284669,
          -0.6417814763260807,
          null,
          0.5303739020891074,
          0.8656573101368842,
          null,
          -0.7668503621953687,
          -0.33206734115653935,
          null,
          -0.2265917754251587,
          -0.3145400778382757,
          null,
          -0.2265917754251587,
          -0.4876342278010679,
          null,
          -0.8806350414550231,
          -0.7643939767506918,
          null
         ],
         "y": [
          0.20761692765516057,
          -0.15285791906043641,
          null,
          0.20761692765516057,
          0.19830467611780533,
          null,
          0.20761692765516057,
          0.3771566650361168,
          null,
          0.20761692765516057,
          0.42653658275468875,
          null,
          0.20761692765516057,
          0.5711096226216084,
          null,
          0.20761692765516057,
          0.35038844969343774,
          null,
          0.20761692765516057,
          -0.32422567583991946,
          null,
          -0.15285791906043641,
          0.3771566650361168,
          null,
          -0.15285791906043641,
          -0.2700110418460554,
          null,
          -0.15285791906043641,
          -0.3833237473790962,
          null,
          -0.15285791906043641,
          -0.36811554660336937,
          null,
          -0.15285791906043641,
          0.3376425033076371,
          null,
          -0.15285791906043641,
          -0.13622057690274145,
          null,
          -0.15285791906043641,
          -0.5995543673534558,
          null,
          0.19830467611780533,
          0.5734966541274089,
          null,
          0.19830467611780533,
          0.027085231907799517,
          null,
          0.3771566650361168,
          0.0594629843128754,
          null,
          0.42653658275468875,
          0.5711096226216084,
          null,
          0.42653658275468875,
          0.7852269030638287,
          null,
          0.42653658275468875,
          0.2866623782084009,
          null,
          0.5711096226216084,
          0.35038844969343774,
          null,
          0.5711096226216084,
          0.3376425033076371,
          null,
          0.35038844969343774,
          0.5734966541274089,
          null,
          0.35038844969343774,
          0.027085231907799517,
          null,
          0.35038844969343774,
          0.7852269030638287,
          null,
          0.35038844969343774,
          0.0594629843128754,
          null,
          0.35038844969343774,
          0.008135456051384046,
          null,
          0.35038844969343774,
          0.2866623782084009,
          null,
          0.7852269030638287,
          0.9572199331866953,
          null,
          0.7852269030638287,
          0.8438164739629376,
          null,
          0.0594629843128754,
          -0.32422567583991946,
          null,
          0.0594629843128754,
          -0.13622057690274145,
          null,
          -0.32422567583991946,
          -0.2700110418460554,
          null,
          -0.32422567583991946,
          -0.6338977075391566,
          null,
          -0.32422567583991946,
          -0.5363519751066284,
          null,
          -0.2700110418460554,
          0.008135456051384046,
          null,
          -0.2700110418460554,
          -0.3833237473790962,
          null,
          -0.2700110418460554,
          -0.2421563428840166,
          null,
          -0.2700110418460554,
          -0.6338977075391566,
          null,
          -0.2700110418460554,
          -0.5363519751066284,
          null,
          -0.2700110418460554,
          -0.7751044402383908,
          null,
          -0.2700110418460554,
          0.33418975415866176,
          null,
          0.008135456051384046,
          -0.4395704951636549,
          null,
          0.008135456051384046,
          0.23333470845876647,
          null,
          0.008135456051384046,
          0.2963474021031632,
          null,
          0.008135456051384046,
          -0.2017480431671285,
          null,
          -0.3833237473790962,
          -0.36811554660336937,
          null,
          -0.3833237473790962,
          -0.4395704951636549,
          null,
          -0.3833237473790962,
          -0.37055118654361824,
          null,
          -0.36811554660336937,
          -0.2421563428840166,
          null,
          -0.36811554660336937,
          -0.7751044402383908,
          null,
          -0.36811554660336937,
          0.33418975415866176,
          null,
          -0.36811554660336937,
          -0.8281706004970609,
          null,
          0.2866623782084009,
          0.23333470845876647,
          null,
          0.2866623782084009,
          0.2963474021031632,
          null,
          0.2866623782084009,
          -0.2017480431671285,
          null,
          -0.4395704951636549,
          0.13353391475820808,
          null,
          -0.4395704951636549,
          -0.7454075553618582,
          null,
          -0.4395704951636549,
          -0.8281706004970609,
          null,
          -0.2421563428840166,
          -0.37055118654361824,
          null,
          -0.6338977075391566,
          -0.5995543673534558,
          null,
          0.2963474021031632,
          0.13353391475820808,
          null,
          0.33418975415866176,
          0.9572199331866953,
          null,
          0.33418975415866176,
          0.8438164739629376,
          null,
          -0.2017480431671285,
          -0.7454075553618582,
          null
         ]
        },
        {
         "hoverinfo": "text",
         "marker": {
          "color": [
           7,
           8,
           3,
           3,
           4,
           4,
           8,
           2,
           2,
           4,
           4,
           5,
           9,
           6,
           5,
           6,
           5,
           5,
           3,
           2,
           3,
           3,
           2,
           2,
           2,
           2,
           4,
           2,
           3,
           2,
           2,
           2,
           2,
           2,
           2
          ],
          "colorbar": {
           "thickness": 10,
           "title": {
            "side": "right",
            "text": "Node Connections"
           },
           "xanchor": "left"
          },
          "colorscale": [
           [
            0,
            "rgb(103,0,31)"
           ],
           [
            0.1,
            "rgb(178,24,43)"
           ],
           [
            0.2,
            "rgb(214,96,77)"
           ],
           [
            0.3,
            "rgb(244,165,130)"
           ],
           [
            0.4,
            "rgb(253,219,199)"
           ],
           [
            0.5,
            "rgb(247,247,247)"
           ],
           [
            0.6,
            "rgb(209,229,240)"
           ],
           [
            0.7,
            "rgb(146,197,222)"
           ],
           [
            0.8,
            "rgb(67,147,195)"
           ],
           [
            0.9,
            "rgb(33,102,172)"
           ],
           [
            1,
            "rgb(5,48,97)"
           ]
          ],
          "line": {
           "width": 0
          },
          "reversescale": true,
          "showscale": true,
          "size": 15
         },
         "mode": "markers",
         "text": [
          "neuron-2XE7Jw # of connections: 7",
          "output # of connections: 8",
          "input-x # of connections: 3",
          "input-y # of connections: 3",
          "input-r # of connections: 4",
          "neuron-0vLilQ # of connections: 4",
          "neuron-V6XxhQ # of connections: 8",
          "neuron-GZuKTA # of connections: 2",
          "neuron-ZKUhBQ # of connections: 2",
          "neuron-RDZDkA # of connections: 4",
          "neuron-jq3cyQ # of connections: 4",
          "neuron-SbtFSQ # of connections: 5",
          "neuron-EYOcoQ # of connections: 9",
          "neuron-b3caNA # of connections: 6",
          "neuron-QgNn9Q # of connections: 5",
          "neuron-az4CcA # of connections: 6",
          "neuron-9MXpQQ # of connections: 5",
          "neuron-2O-AgQ # of connections: 5",
          "neuron-_McjYQ # of connections: 3",
          "neuron-vm9WOw # of connections: 2",
          "neuron-cKYgTw # of connections: 3",
          "neuron-wC9rZw # of connections: 3",
          "neuron-t-j_Ig # of connections: 2",
          "neuron-GN1Q2Q # of connections: 2",
          "neuron-YDg8jA # of connections: 2",
          "neuron-_TaAAA # of connections: 2",
          "neuron--cjhDQ # of connections: 4",
          "neuron-OXJrBQ # of connections: 2",
          "neuron-jfJ54Q # of connections: 3",
          "neuron-Dwm5vQ # of connections: 2",
          "neuron-oOj2XA # of connections: 2",
          "neuron--OZBVw # of connections: 2",
          "neuron-Ll7w3Q # of connections: 2",
          "neuron-qfJYag # of connections: 2",
          "neuron-8wkSKw # of connections: 2"
         ],
         "type": "scatter",
         "x": [
          0.42805539188498126,
          0.48977759204971055,
          0.765967238989913,
          0.38763565024664526,
          0.005658459904989717,
          0.46461200625681887,
          0.11891310336749136,
          0.6981790371550587,
          0.29637600560688604,
          -0.15552765808043836,
          0.6186050082396485,
          0.3800500943122154,
          0.04833023540707358,
          -0.5100798226223486,
          -0.1601787137845169,
          -0.030294036650030633,
          -0.534047258348005,
          -0.5178921276797381,
          -0.3182773646284669,
          -0.9798719548834343,
          0.5303739020891074,
          -0.7668503621953687,
          -0.33206734115653935,
          -0.6417814763260807,
          -0.11703795276748143,
          0.1122958009875676,
          -0.2265917754251587,
          -0.3145400778382757,
          -0.8806350414550231,
          0.8918158706049671,
          -0.7643939767506918,
          -0.4876342278010679,
          1,
          0.8656573101368842,
          -0.3646015388472938
         ],
         "y": [
          0.20761692765516057,
          -0.15285791906043641,
          0.19830467611780533,
          0.3771566650361168,
          0.42653658275468875,
          0.5711096226216084,
          0.35038844969343774,
          0.5734966541274089,
          0.027085231907799517,
          0.7852269030638287,
          0.0594629843128754,
          -0.32422567583991946,
          -0.2700110418460554,
          0.008135456051384046,
          -0.3833237473790962,
          -0.36811554660336937,
          0.2866623782084009,
          -0.4395704951636549,
          -0.2421563428840166,
          0.23333470845876647,
          -0.6338977075391566,
          0.2963474021031632,
          0.13353391475820808,
          -0.37055118654361824,
          -0.5363519751066284,
          -0.7751044402383908,
          0.33418975415866176,
          0.9572199331866953,
          -0.2017480431671285,
          0.3376425033076371,
          -0.7454075553618582,
          0.8438164739629376,
          -0.13622057690274145,
          -0.5995543673534558,
          -0.8281706004970609
         ]
        }
       ],
       "layout": {
        "annotations": [
         {
          "showarrow": false,
          "text": "No. of connections",
          "xref": "paper",
          "yref": "paper"
         }
        ],
        "hovermode": "closest",
        "margin": {
         "b": 20,
         "l": 5,
         "r": 5,
         "t": 40
        },
        "showlegend": false,
        "template": {
         "data": {
          "bar": [
           {
            "error_x": {
             "color": "#2a3f5f"
            },
            "error_y": {
             "color": "#2a3f5f"
            },
            "marker": {
             "line": {
              "color": "#E5ECF6",
              "width": 0.5
             }
            },
            "type": "bar"
           }
          ],
          "barpolar": [
           {
            "marker": {
             "line": {
              "color": "#E5ECF6",
              "width": 0.5
             }
            },
            "type": "barpolar"
           }
          ],
          "carpet": [
           {
            "aaxis": {
             "endlinecolor": "#2a3f5f",
             "gridcolor": "white",
             "linecolor": "white",
             "minorgridcolor": "white",
             "startlinecolor": "#2a3f5f"
            },
            "baxis": {
             "endlinecolor": "#2a3f5f",
             "gridcolor": "white",
             "linecolor": "white",
             "minorgridcolor": "white",
             "startlinecolor": "#2a3f5f"
            },
            "type": "carpet"
           }
          ],
          "choropleth": [
           {
            "colorbar": {
             "outlinewidth": 0,
             "ticks": ""
            },
            "type": "choropleth"
           }
          ],
          "contour": [
           {
            "colorbar": {
             "outlinewidth": 0,
             "ticks": ""
            },
            "colorscale": [
             [
              0,
              "#0d0887"
             ],
             [
              0.1111111111111111,
              "#46039f"
             ],
             [
              0.2222222222222222,
              "#7201a8"
             ],
             [
              0.3333333333333333,
              "#9c179e"
             ],
             [
              0.4444444444444444,
              "#bd3786"
             ],
             [
              0.5555555555555556,
              "#d8576b"
             ],
             [
              0.6666666666666666,
              "#ed7953"
             ],
             [
              0.7777777777777778,
              "#fb9f3a"
             ],
             [
              0.8888888888888888,
              "#fdca26"
             ],
             [
              1,
              "#f0f921"
             ]
            ],
            "type": "contour"
           }
          ],
          "contourcarpet": [
           {
            "colorbar": {
             "outlinewidth": 0,
             "ticks": ""
            },
            "type": "contourcarpet"
           }
          ],
          "heatmap": [
           {
            "colorbar": {
             "outlinewidth": 0,
             "ticks": ""
            },
            "colorscale": [
             [
              0,
              "#0d0887"
             ],
             [
              0.1111111111111111,
              "#46039f"
             ],
             [
              0.2222222222222222,
              "#7201a8"
             ],
             [
              0.3333333333333333,
              "#9c179e"
             ],
             [
              0.4444444444444444,
              "#bd3786"
             ],
             [
              0.5555555555555556,
              "#d8576b"
             ],
             [
              0.6666666666666666,
              "#ed7953"
             ],
             [
              0.7777777777777778,
              "#fb9f3a"
             ],
             [
              0.8888888888888888,
              "#fdca26"
             ],
             [
              1,
              "#f0f921"
             ]
            ],
            "type": "heatmap"
           }
          ],
          "heatmapgl": [
           {
            "colorbar": {
             "outlinewidth": 0,
             "ticks": ""
            },
            "colorscale": [
             [
              0,
              "#0d0887"
             ],
             [
              0.1111111111111111,
              "#46039f"
             ],
             [
              0.2222222222222222,
              "#7201a8"
             ],
             [
              0.3333333333333333,
              "#9c179e"
             ],
             [
              0.4444444444444444,
              "#bd3786"
             ],
             [
              0.5555555555555556,
              "#d8576b"
             ],
             [
              0.6666666666666666,
              "#ed7953"
             ],
             [
              0.7777777777777778,
              "#fb9f3a"
             ],
             [
              0.8888888888888888,
              "#fdca26"
             ],
             [
              1,
              "#f0f921"
             ]
            ],
            "type": "heatmapgl"
           }
          ],
          "histogram": [
           {
            "marker": {
             "colorbar": {
              "outlinewidth": 0,
              "ticks": ""
             }
            },
            "type": "histogram"
           }
          ],
          "histogram2d": [
           {
            "colorbar": {
             "outlinewidth": 0,
             "ticks": ""
            },
            "colorscale": [
             [
              0,
              "#0d0887"
             ],
             [
              0.1111111111111111,
              "#46039f"
             ],
             [
              0.2222222222222222,
              "#7201a8"
             ],
             [
              0.3333333333333333,
              "#9c179e"
             ],
             [
              0.4444444444444444,
              "#bd3786"
             ],
             [
              0.5555555555555556,
              "#d8576b"
             ],
             [
              0.6666666666666666,
              "#ed7953"
             ],
             [
              0.7777777777777778,
              "#fb9f3a"
             ],
             [
              0.8888888888888888,
              "#fdca26"
             ],
             [
              1,
              "#f0f921"
             ]
            ],
            "type": "histogram2d"
           }
          ],
          "histogram2dcontour": [
           {
            "colorbar": {
             "outlinewidth": 0,
             "ticks": ""
            },
            "colorscale": [
             [
              0,
              "#0d0887"
             ],
             [
              0.1111111111111111,
              "#46039f"
             ],
             [
              0.2222222222222222,
              "#7201a8"
             ],
             [
              0.3333333333333333,
              "#9c179e"
             ],
             [
              0.4444444444444444,
              "#bd3786"
             ],
             [
              0.5555555555555556,
              "#d8576b"
             ],
             [
              0.6666666666666666,
              "#ed7953"
             ],
             [
              0.7777777777777778,
              "#fb9f3a"
             ],
             [
              0.8888888888888888,
              "#fdca26"
             ],
             [
              1,
              "#f0f921"
             ]
            ],
            "type": "histogram2dcontour"
           }
          ],
          "mesh3d": [
           {
            "colorbar": {
             "outlinewidth": 0,
             "ticks": ""
            },
            "type": "mesh3d"
           }
          ],
          "parcoords": [
           {
            "line": {
             "colorbar": {
              "outlinewidth": 0,
              "ticks": ""
             }
            },
            "type": "parcoords"
           }
          ],
          "pie": [
           {
            "automargin": true,
            "type": "pie"
           }
          ],
          "scatter": [
           {
            "marker": {
             "colorbar": {
              "outlinewidth": 0,
              "ticks": ""
             }
            },
            "type": "scatter"
           }
          ],
          "scatter3d": [
           {
            "line": {
             "colorbar": {
              "outlinewidth": 0,
              "ticks": ""
             }
            },
            "marker": {
             "colorbar": {
              "outlinewidth": 0,
              "ticks": ""
             }
            },
            "type": "scatter3d"
           }
          ],
          "scattercarpet": [
           {
            "marker": {
             "colorbar": {
              "outlinewidth": 0,
              "ticks": ""
             }
            },
            "type": "scattercarpet"
           }
          ],
          "scattergeo": [
           {
            "marker": {
             "colorbar": {
              "outlinewidth": 0,
              "ticks": ""
             }
            },
            "type": "scattergeo"
           }
          ],
          "scattergl": [
           {
            "marker": {
             "colorbar": {
              "outlinewidth": 0,
              "ticks": ""
             }
            },
            "type": "scattergl"
           }
          ],
          "scattermapbox": [
           {
            "marker": {
             "colorbar": {
              "outlinewidth": 0,
              "ticks": ""
             }
            },
            "type": "scattermapbox"
           }
          ],
          "scatterpolar": [
           {
            "marker": {
             "colorbar": {
              "outlinewidth": 0,
              "ticks": ""
             }
            },
            "type": "scatterpolar"
           }
          ],
          "scatterpolargl": [
           {
            "marker": {
             "colorbar": {
              "outlinewidth": 0,
              "ticks": ""
             }
            },
            "type": "scatterpolargl"
           }
          ],
          "scatterternary": [
           {
            "marker": {
             "colorbar": {
              "outlinewidth": 0,
              "ticks": ""
             }
            },
            "type": "scatterternary"
           }
          ],
          "surface": [
           {
            "colorbar": {
             "outlinewidth": 0,
             "ticks": ""
            },
            "colorscale": [
             [
              0,
              "#0d0887"
             ],
             [
              0.1111111111111111,
              "#46039f"
             ],
             [
              0.2222222222222222,
              "#7201a8"
             ],
             [
              0.3333333333333333,
              "#9c179e"
             ],
             [
              0.4444444444444444,
              "#bd3786"
             ],
             [
              0.5555555555555556,
              "#d8576b"
             ],
             [
              0.6666666666666666,
              "#ed7953"
             ],
             [
              0.7777777777777778,
              "#fb9f3a"
             ],
             [
              0.8888888888888888,
              "#fdca26"
             ],
             [
              1,
              "#f0f921"
             ]
            ],
            "type": "surface"
           }
          ],
          "table": [
           {
            "cells": {
             "fill": {
              "color": "#EBF0F8"
             },
             "line": {
              "color": "white"
             }
            },
            "header": {
             "fill": {
              "color": "#C8D4E3"
             },
             "line": {
              "color": "white"
             }
            },
            "type": "table"
           }
          ]
         },
         "layout": {
          "annotationdefaults": {
           "arrowcolor": "#2a3f5f",
           "arrowhead": 0,
           "arrowwidth": 1
          },
          "coloraxis": {
           "colorbar": {
            "outlinewidth": 0,
            "ticks": ""
           }
          },
          "colorscale": {
           "diverging": [
            [
             0,
             "#8e0152"
            ],
            [
             0.1,
             "#c51b7d"
            ],
            [
             0.2,
             "#de77ae"
            ],
            [
             0.3,
             "#f1b6da"
            ],
            [
             0.4,
             "#fde0ef"
            ],
            [
             0.5,
             "#f7f7f7"
            ],
            [
             0.6,
             "#e6f5d0"
            ],
            [
             0.7,
             "#b8e186"
            ],
            [
             0.8,
             "#7fbc41"
            ],
            [
             0.9,
             "#4d9221"
            ],
            [
             1,
             "#276419"
            ]
           ],
           "sequential": [
            [
             0,
             "#0d0887"
            ],
            [
             0.1111111111111111,
             "#46039f"
            ],
            [
             0.2222222222222222,
             "#7201a8"
            ],
            [
             0.3333333333333333,
             "#9c179e"
            ],
            [
             0.4444444444444444,
             "#bd3786"
            ],
            [
             0.5555555555555556,
             "#d8576b"
            ],
            [
             0.6666666666666666,
             "#ed7953"
            ],
            [
             0.7777777777777778,
             "#fb9f3a"
            ],
            [
             0.8888888888888888,
             "#fdca26"
            ],
            [
             1,
             "#f0f921"
            ]
           ],
           "sequentialminus": [
            [
             0,
             "#0d0887"
            ],
            [
             0.1111111111111111,
             "#46039f"
            ],
            [
             0.2222222222222222,
             "#7201a8"
            ],
            [
             0.3333333333333333,
             "#9c179e"
            ],
            [
             0.4444444444444444,
             "#bd3786"
            ],
            [
             0.5555555555555556,
             "#d8576b"
            ],
            [
             0.6666666666666666,
             "#ed7953"
            ],
            [
             0.7777777777777778,
             "#fb9f3a"
            ],
            [
             0.8888888888888888,
             "#fdca26"
            ],
            [
             1,
             "#f0f921"
            ]
           ]
          },
          "colorway": [
           "#636efa",
           "#EF553B",
           "#00cc96",
           "#ab63fa",
           "#FFA15A",
           "#19d3f3",
           "#FF6692",
           "#B6E880",
           "#FF97FF",
           "#FECB52"
          ],
          "font": {
           "color": "#2a3f5f"
          },
          "geo": {
           "bgcolor": "white",
           "lakecolor": "white",
           "landcolor": "#E5ECF6",
           "showlakes": true,
           "showland": true,
           "subunitcolor": "white"
          },
          "hoverlabel": {
           "align": "left"
          },
          "hovermode": "closest",
          "mapbox": {
           "style": "light"
          },
          "paper_bgcolor": "white",
          "plot_bgcolor": "#E5ECF6",
          "polar": {
           "angularaxis": {
            "gridcolor": "white",
            "linecolor": "white",
            "ticks": ""
           },
           "bgcolor": "#E5ECF6",
           "radialaxis": {
            "gridcolor": "white",
            "linecolor": "white",
            "ticks": ""
           }
          },
          "scene": {
           "xaxis": {
            "backgroundcolor": "#E5ECF6",
            "gridcolor": "white",
            "gridwidth": 2,
            "linecolor": "white",
            "showbackground": true,
            "ticks": "",
            "zerolinecolor": "white"
           },
           "yaxis": {
            "backgroundcolor": "#E5ECF6",
            "gridcolor": "white",
            "gridwidth": 2,
            "linecolor": "white",
            "showbackground": true,
            "ticks": "",
            "zerolinecolor": "white"
           },
           "zaxis": {
            "backgroundcolor": "#E5ECF6",
            "gridcolor": "white",
            "gridwidth": 2,
            "linecolor": "white",
            "showbackground": true,
            "ticks": "",
            "zerolinecolor": "white"
           }
          },
          "shapedefaults": {
           "line": {
            "color": "#2a3f5f"
           }
          },
          "ternary": {
           "aaxis": {
            "gridcolor": "white",
            "linecolor": "white",
            "ticks": ""
           },
           "baxis": {
            "gridcolor": "white",
            "linecolor": "white",
            "ticks": ""
           },
           "bgcolor": "#E5ECF6",
           "caxis": {
            "gridcolor": "white",
            "linecolor": "white",
            "ticks": ""
           }
          },
          "title": {
           "x": 0.05
          },
          "xaxis": {
           "automargin": true,
           "gridcolor": "white",
           "linecolor": "white",
           "ticks": "",
           "title": {
            "standoff": 15
           },
           "zerolinecolor": "white",
           "zerolinewidth": 2
          },
          "yaxis": {
           "automargin": true,
           "gridcolor": "white",
           "linecolor": "white",
           "ticks": "",
           "title": {
            "standoff": 15
           },
           "zerolinecolor": "white",
           "zerolinewidth": 2
          }
         }
        },
        "xaxis": {
         "showgrid": false,
         "showticklabels": false,
         "zeroline": false
        },
        "yaxis": {
         "showgrid": false,
         "showticklabels": false,
         "zeroline": false
        }
       }
      },
      "text/html": [
       "<div>\n",
       "        \n",
       "        \n",
       "            <div id=\"2778b413-e53f-4d8f-8b6c-e7f9b7cc24b0\" class=\"plotly-graph-div\" style=\"height:525px; width:100%;\"></div>\n",
       "            <script type=\"text/javascript\">\n",
       "                require([\"plotly\"], function(Plotly) {\n",
       "                    window.PLOTLYENV=window.PLOTLYENV || {};\n",
       "                    \n",
       "                if (document.getElementById(\"2778b413-e53f-4d8f-8b6c-e7f9b7cc24b0\")) {\n",
       "                    Plotly.newPlot(\n",
       "                        '2778b413-e53f-4d8f-8b6c-e7f9b7cc24b0',\n",
       "                        [{\"hoverinfo\": \"none\", \"line\": {\"color\": \"#888\", \"width\": 0.5}, \"mode\": \"lines\", \"type\": \"scatter\", \"x\": [0.42805539188498126, 0.48977759204971055, null, 0.42805539188498126, 0.765967238989913, null, 0.42805539188498126, 0.38763565024664526, null, 0.42805539188498126, 0.005658459904989717, null, 0.42805539188498126, 0.46461200625681887, null, 0.42805539188498126, 0.11891310336749136, null, 0.42805539188498126, 0.3800500943122154, null, 0.48977759204971055, 0.38763565024664526, null, 0.48977759204971055, 0.04833023540707358, null, 0.48977759204971055, -0.1601787137845169, null, 0.48977759204971055, -0.030294036650030633, null, 0.48977759204971055, 0.8918158706049671, null, 0.48977759204971055, 1.0, null, 0.48977759204971055, 0.8656573101368842, null, 0.765967238989913, 0.6981790371550587, null, 0.765967238989913, 0.29637600560688604, null, 0.38763565024664526, 0.6186050082396485, null, 0.005658459904989717, 0.46461200625681887, null, 0.005658459904989717, -0.15552765808043836, null, 0.005658459904989717, -0.534047258348005, null, 0.46461200625681887, 0.11891310336749136, null, 0.46461200625681887, 0.8918158706049671, null, 0.11891310336749136, 0.6981790371550587, null, 0.11891310336749136, 0.29637600560688604, null, 0.11891310336749136, -0.15552765808043836, null, 0.11891310336749136, 0.6186050082396485, null, 0.11891310336749136, -0.5100798226223486, null, 0.11891310336749136, -0.534047258348005, null, -0.15552765808043836, -0.3145400778382757, null, -0.15552765808043836, -0.4876342278010679, null, 0.6186050082396485, 0.3800500943122154, null, 0.6186050082396485, 1.0, null, 0.3800500943122154, 0.04833023540707358, null, 0.3800500943122154, 0.5303739020891074, null, 0.3800500943122154, -0.11703795276748143, null, 0.04833023540707358, -0.5100798226223486, null, 0.04833023540707358, -0.1601787137845169, null, 0.04833023540707358, -0.3182773646284669, null, 0.04833023540707358, 0.5303739020891074, null, 0.04833023540707358, -0.11703795276748143, null, 0.04833023540707358, 0.1122958009875676, null, 0.04833023540707358, -0.2265917754251587, null, -0.5100798226223486, -0.5178921276797381, null, -0.5100798226223486, -0.9798719548834343, null, -0.5100798226223486, -0.7668503621953687, null, -0.5100798226223486, -0.8806350414550231, null, -0.1601787137845169, -0.030294036650030633, null, -0.1601787137845169, -0.5178921276797381, null, -0.1601787137845169, -0.6417814763260807, null, -0.030294036650030633, -0.3182773646284669, null, -0.030294036650030633, 0.1122958009875676, null, -0.030294036650030633, -0.2265917754251587, null, -0.030294036650030633, -0.3646015388472938, null, -0.534047258348005, -0.9798719548834343, null, -0.534047258348005, -0.7668503621953687, null, -0.534047258348005, -0.8806350414550231, null, -0.5178921276797381, -0.33206734115653935, null, -0.5178921276797381, -0.7643939767506918, null, -0.5178921276797381, -0.3646015388472938, null, -0.3182773646284669, -0.6417814763260807, null, 0.5303739020891074, 0.8656573101368842, null, -0.7668503621953687, -0.33206734115653935, null, -0.2265917754251587, -0.3145400778382757, null, -0.2265917754251587, -0.4876342278010679, null, -0.8806350414550231, -0.7643939767506918, null], \"y\": [0.20761692765516057, -0.15285791906043641, null, 0.20761692765516057, 0.19830467611780533, null, 0.20761692765516057, 0.3771566650361168, null, 0.20761692765516057, 0.42653658275468875, null, 0.20761692765516057, 0.5711096226216084, null, 0.20761692765516057, 0.35038844969343774, null, 0.20761692765516057, -0.32422567583991946, null, -0.15285791906043641, 0.3771566650361168, null, -0.15285791906043641, -0.2700110418460554, null, -0.15285791906043641, -0.3833237473790962, null, -0.15285791906043641, -0.36811554660336937, null, -0.15285791906043641, 0.3376425033076371, null, -0.15285791906043641, -0.13622057690274145, null, -0.15285791906043641, -0.5995543673534558, null, 0.19830467611780533, 0.5734966541274089, null, 0.19830467611780533, 0.027085231907799517, null, 0.3771566650361168, 0.0594629843128754, null, 0.42653658275468875, 0.5711096226216084, null, 0.42653658275468875, 0.7852269030638287, null, 0.42653658275468875, 0.2866623782084009, null, 0.5711096226216084, 0.35038844969343774, null, 0.5711096226216084, 0.3376425033076371, null, 0.35038844969343774, 0.5734966541274089, null, 0.35038844969343774, 0.027085231907799517, null, 0.35038844969343774, 0.7852269030638287, null, 0.35038844969343774, 0.0594629843128754, null, 0.35038844969343774, 0.008135456051384046, null, 0.35038844969343774, 0.2866623782084009, null, 0.7852269030638287, 0.9572199331866953, null, 0.7852269030638287, 0.8438164739629376, null, 0.0594629843128754, -0.32422567583991946, null, 0.0594629843128754, -0.13622057690274145, null, -0.32422567583991946, -0.2700110418460554, null, -0.32422567583991946, -0.6338977075391566, null, -0.32422567583991946, -0.5363519751066284, null, -0.2700110418460554, 0.008135456051384046, null, -0.2700110418460554, -0.3833237473790962, null, -0.2700110418460554, -0.2421563428840166, null, -0.2700110418460554, -0.6338977075391566, null, -0.2700110418460554, -0.5363519751066284, null, -0.2700110418460554, -0.7751044402383908, null, -0.2700110418460554, 0.33418975415866176, null, 0.008135456051384046, -0.4395704951636549, null, 0.008135456051384046, 0.23333470845876647, null, 0.008135456051384046, 0.2963474021031632, null, 0.008135456051384046, -0.2017480431671285, null, -0.3833237473790962, -0.36811554660336937, null, -0.3833237473790962, -0.4395704951636549, null, -0.3833237473790962, -0.37055118654361824, null, -0.36811554660336937, -0.2421563428840166, null, -0.36811554660336937, -0.7751044402383908, null, -0.36811554660336937, 0.33418975415866176, null, -0.36811554660336937, -0.8281706004970609, null, 0.2866623782084009, 0.23333470845876647, null, 0.2866623782084009, 0.2963474021031632, null, 0.2866623782084009, -0.2017480431671285, null, -0.4395704951636549, 0.13353391475820808, null, -0.4395704951636549, -0.7454075553618582, null, -0.4395704951636549, -0.8281706004970609, null, -0.2421563428840166, -0.37055118654361824, null, -0.6338977075391566, -0.5995543673534558, null, 0.2963474021031632, 0.13353391475820808, null, 0.33418975415866176, 0.9572199331866953, null, 0.33418975415866176, 0.8438164739629376, null, -0.2017480431671285, -0.7454075553618582, null]}, {\"hoverinfo\": \"text\", \"marker\": {\"color\": [7, 8, 3, 3, 4, 4, 8, 2, 2, 4, 4, 5, 9, 6, 5, 6, 5, 5, 3, 2, 3, 3, 2, 2, 2, 2, 4, 2, 3, 2, 2, 2, 2, 2, 2], \"colorbar\": {\"thickness\": 10, \"title\": {\"side\": \"right\", \"text\": \"Node Connections\"}, \"xanchor\": \"left\"}, \"colorscale\": [[0.0, \"rgb(103,0,31)\"], [0.1, \"rgb(178,24,43)\"], [0.2, \"rgb(214,96,77)\"], [0.3, \"rgb(244,165,130)\"], [0.4, \"rgb(253,219,199)\"], [0.5, \"rgb(247,247,247)\"], [0.6, \"rgb(209,229,240)\"], [0.7, \"rgb(146,197,222)\"], [0.8, \"rgb(67,147,195)\"], [0.9, \"rgb(33,102,172)\"], [1.0, \"rgb(5,48,97)\"]], \"line\": {\"width\": 0}, \"reversescale\": true, \"showscale\": true, \"size\": 15}, \"mode\": \"markers\", \"text\": [\"neuron-2XE7Jw # of connections: 7\", \"output # of connections: 8\", \"input-x # of connections: 3\", \"input-y # of connections: 3\", \"input-r # of connections: 4\", \"neuron-0vLilQ # of connections: 4\", \"neuron-V6XxhQ # of connections: 8\", \"neuron-GZuKTA # of connections: 2\", \"neuron-ZKUhBQ # of connections: 2\", \"neuron-RDZDkA # of connections: 4\", \"neuron-jq3cyQ # of connections: 4\", \"neuron-SbtFSQ # of connections: 5\", \"neuron-EYOcoQ # of connections: 9\", \"neuron-b3caNA # of connections: 6\", \"neuron-QgNn9Q # of connections: 5\", \"neuron-az4CcA # of connections: 6\", \"neuron-9MXpQQ # of connections: 5\", \"neuron-2O-AgQ # of connections: 5\", \"neuron-_McjYQ # of connections: 3\", \"neuron-vm9WOw # of connections: 2\", \"neuron-cKYgTw # of connections: 3\", \"neuron-wC9rZw # of connections: 3\", \"neuron-t-j_Ig # of connections: 2\", \"neuron-GN1Q2Q # of connections: 2\", \"neuron-YDg8jA # of connections: 2\", \"neuron-_TaAAA # of connections: 2\", \"neuron--cjhDQ # of connections: 4\", \"neuron-OXJrBQ # of connections: 2\", \"neuron-jfJ54Q # of connections: 3\", \"neuron-Dwm5vQ # of connections: 2\", \"neuron-oOj2XA # of connections: 2\", \"neuron--OZBVw # of connections: 2\", \"neuron-Ll7w3Q # of connections: 2\", \"neuron-qfJYag # of connections: 2\", \"neuron-8wkSKw # of connections: 2\"], \"type\": \"scatter\", \"x\": [0.42805539188498126, 0.48977759204971055, 0.765967238989913, 0.38763565024664526, 0.005658459904989717, 0.46461200625681887, 0.11891310336749136, 0.6981790371550587, 0.29637600560688604, -0.15552765808043836, 0.6186050082396485, 0.3800500943122154, 0.04833023540707358, -0.5100798226223486, -0.1601787137845169, -0.030294036650030633, -0.534047258348005, -0.5178921276797381, -0.3182773646284669, -0.9798719548834343, 0.5303739020891074, -0.7668503621953687, -0.33206734115653935, -0.6417814763260807, -0.11703795276748143, 0.1122958009875676, -0.2265917754251587, -0.3145400778382757, -0.8806350414550231, 0.8918158706049671, -0.7643939767506918, -0.4876342278010679, 1.0, 0.8656573101368842, -0.3646015388472938], \"y\": [0.20761692765516057, -0.15285791906043641, 0.19830467611780533, 0.3771566650361168, 0.42653658275468875, 0.5711096226216084, 0.35038844969343774, 0.5734966541274089, 0.027085231907799517, 0.7852269030638287, 0.0594629843128754, -0.32422567583991946, -0.2700110418460554, 0.008135456051384046, -0.3833237473790962, -0.36811554660336937, 0.2866623782084009, -0.4395704951636549, -0.2421563428840166, 0.23333470845876647, -0.6338977075391566, 0.2963474021031632, 0.13353391475820808, -0.37055118654361824, -0.5363519751066284, -0.7751044402383908, 0.33418975415866176, 0.9572199331866953, -0.2017480431671285, 0.3376425033076371, -0.7454075553618582, 0.8438164739629376, -0.13622057690274145, -0.5995543673534558, -0.8281706004970609]}],\n",
       "                        {\"annotations\": [{\"showarrow\": false, \"text\": \"No. of connections\", \"xref\": \"paper\", \"yref\": \"paper\"}], \"hovermode\": \"closest\", \"margin\": {\"b\": 20, \"l\": 5, \"r\": 5, \"t\": 40}, \"showlegend\": false, \"template\": {\"data\": {\"bar\": [{\"error_x\": {\"color\": \"#2a3f5f\"}, \"error_y\": {\"color\": \"#2a3f5f\"}, \"marker\": {\"line\": {\"color\": \"#E5ECF6\", \"width\": 0.5}}, \"type\": \"bar\"}], \"barpolar\": [{\"marker\": {\"line\": {\"color\": \"#E5ECF6\", \"width\": 0.5}}, \"type\": \"barpolar\"}], \"carpet\": [{\"aaxis\": {\"endlinecolor\": \"#2a3f5f\", \"gridcolor\": \"white\", \"linecolor\": \"white\", \"minorgridcolor\": \"white\", \"startlinecolor\": \"#2a3f5f\"}, \"baxis\": {\"endlinecolor\": \"#2a3f5f\", \"gridcolor\": \"white\", \"linecolor\": \"white\", \"minorgridcolor\": \"white\", \"startlinecolor\": \"#2a3f5f\"}, \"type\": \"carpet\"}], \"choropleth\": [{\"colorbar\": {\"outlinewidth\": 0, \"ticks\": \"\"}, \"type\": \"choropleth\"}], \"contour\": [{\"colorbar\": {\"outlinewidth\": 0, \"ticks\": \"\"}, \"colorscale\": [[0.0, \"#0d0887\"], [0.1111111111111111, \"#46039f\"], [0.2222222222222222, \"#7201a8\"], [0.3333333333333333, \"#9c179e\"], [0.4444444444444444, \"#bd3786\"], [0.5555555555555556, \"#d8576b\"], [0.6666666666666666, \"#ed7953\"], [0.7777777777777778, \"#fb9f3a\"], [0.8888888888888888, \"#fdca26\"], [1.0, \"#f0f921\"]], \"type\": \"contour\"}], \"contourcarpet\": [{\"colorbar\": {\"outlinewidth\": 0, \"ticks\": \"\"}, \"type\": \"contourcarpet\"}], \"heatmap\": [{\"colorbar\": {\"outlinewidth\": 0, \"ticks\": \"\"}, \"colorscale\": [[0.0, \"#0d0887\"], [0.1111111111111111, \"#46039f\"], [0.2222222222222222, \"#7201a8\"], [0.3333333333333333, \"#9c179e\"], [0.4444444444444444, \"#bd3786\"], [0.5555555555555556, \"#d8576b\"], [0.6666666666666666, \"#ed7953\"], [0.7777777777777778, \"#fb9f3a\"], [0.8888888888888888, \"#fdca26\"], [1.0, \"#f0f921\"]], \"type\": \"heatmap\"}], \"heatmapgl\": [{\"colorbar\": {\"outlinewidth\": 0, \"ticks\": \"\"}, \"colorscale\": [[0.0, \"#0d0887\"], [0.1111111111111111, \"#46039f\"], [0.2222222222222222, \"#7201a8\"], [0.3333333333333333, \"#9c179e\"], [0.4444444444444444, \"#bd3786\"], [0.5555555555555556, \"#d8576b\"], [0.6666666666666666, \"#ed7953\"], [0.7777777777777778, \"#fb9f3a\"], [0.8888888888888888, \"#fdca26\"], [1.0, \"#f0f921\"]], \"type\": \"heatmapgl\"}], \"histogram\": [{\"marker\": {\"colorbar\": {\"outlinewidth\": 0, \"ticks\": \"\"}}, \"type\": \"histogram\"}], \"histogram2d\": [{\"colorbar\": {\"outlinewidth\": 0, \"ticks\": \"\"}, \"colorscale\": [[0.0, \"#0d0887\"], [0.1111111111111111, \"#46039f\"], [0.2222222222222222, \"#7201a8\"], [0.3333333333333333, \"#9c179e\"], [0.4444444444444444, \"#bd3786\"], [0.5555555555555556, \"#d8576b\"], [0.6666666666666666, \"#ed7953\"], [0.7777777777777778, \"#fb9f3a\"], [0.8888888888888888, \"#fdca26\"], [1.0, \"#f0f921\"]], \"type\": \"histogram2d\"}], \"histogram2dcontour\": [{\"colorbar\": {\"outlinewidth\": 0, \"ticks\": \"\"}, \"colorscale\": [[0.0, \"#0d0887\"], [0.1111111111111111, \"#46039f\"], [0.2222222222222222, \"#7201a8\"], [0.3333333333333333, \"#9c179e\"], [0.4444444444444444, \"#bd3786\"], [0.5555555555555556, \"#d8576b\"], [0.6666666666666666, \"#ed7953\"], [0.7777777777777778, \"#fb9f3a\"], [0.8888888888888888, \"#fdca26\"], [1.0, \"#f0f921\"]], \"type\": \"histogram2dcontour\"}], \"mesh3d\": [{\"colorbar\": {\"outlinewidth\": 0, \"ticks\": \"\"}, \"type\": \"mesh3d\"}], \"parcoords\": [{\"line\": {\"colorbar\": {\"outlinewidth\": 0, \"ticks\": \"\"}}, \"type\": \"parcoords\"}], \"pie\": [{\"automargin\": true, \"type\": \"pie\"}], \"scatter\": [{\"marker\": {\"colorbar\": {\"outlinewidth\": 0, \"ticks\": \"\"}}, \"type\": \"scatter\"}], \"scatter3d\": [{\"line\": {\"colorbar\": {\"outlinewidth\": 0, \"ticks\": \"\"}}, \"marker\": {\"colorbar\": {\"outlinewidth\": 0, \"ticks\": \"\"}}, \"type\": \"scatter3d\"}], \"scattercarpet\": [{\"marker\": {\"colorbar\": {\"outlinewidth\": 0, \"ticks\": \"\"}}, \"type\": \"scattercarpet\"}], \"scattergeo\": [{\"marker\": {\"colorbar\": {\"outlinewidth\": 0, \"ticks\": \"\"}}, \"type\": \"scattergeo\"}], \"scattergl\": [{\"marker\": {\"colorbar\": {\"outlinewidth\": 0, \"ticks\": \"\"}}, \"type\": \"scattergl\"}], \"scattermapbox\": [{\"marker\": {\"colorbar\": {\"outlinewidth\": 0, \"ticks\": \"\"}}, \"type\": \"scattermapbox\"}], \"scatterpolar\": [{\"marker\": {\"colorbar\": {\"outlinewidth\": 0, \"ticks\": \"\"}}, \"type\": \"scatterpolar\"}], \"scatterpolargl\": [{\"marker\": {\"colorbar\": {\"outlinewidth\": 0, \"ticks\": \"\"}}, \"type\": \"scatterpolargl\"}], \"scatterternary\": [{\"marker\": {\"colorbar\": {\"outlinewidth\": 0, \"ticks\": \"\"}}, \"type\": \"scatterternary\"}], \"surface\": [{\"colorbar\": {\"outlinewidth\": 0, \"ticks\": \"\"}, \"colorscale\": [[0.0, \"#0d0887\"], [0.1111111111111111, \"#46039f\"], [0.2222222222222222, \"#7201a8\"], [0.3333333333333333, \"#9c179e\"], [0.4444444444444444, \"#bd3786\"], [0.5555555555555556, \"#d8576b\"], [0.6666666666666666, \"#ed7953\"], [0.7777777777777778, \"#fb9f3a\"], [0.8888888888888888, \"#fdca26\"], [1.0, \"#f0f921\"]], \"type\": \"surface\"}], \"table\": [{\"cells\": {\"fill\": {\"color\": \"#EBF0F8\"}, \"line\": {\"color\": \"white\"}}, \"header\": {\"fill\": {\"color\": \"#C8D4E3\"}, \"line\": {\"color\": \"white\"}}, \"type\": \"table\"}]}, \"layout\": {\"annotationdefaults\": {\"arrowcolor\": \"#2a3f5f\", \"arrowhead\": 0, \"arrowwidth\": 1}, \"coloraxis\": {\"colorbar\": {\"outlinewidth\": 0, \"ticks\": \"\"}}, \"colorscale\": {\"diverging\": [[0, \"#8e0152\"], [0.1, \"#c51b7d\"], [0.2, \"#de77ae\"], [0.3, \"#f1b6da\"], [0.4, \"#fde0ef\"], [0.5, \"#f7f7f7\"], [0.6, \"#e6f5d0\"], [0.7, \"#b8e186\"], [0.8, \"#7fbc41\"], [0.9, \"#4d9221\"], [1, \"#276419\"]], \"sequential\": [[0.0, \"#0d0887\"], [0.1111111111111111, \"#46039f\"], [0.2222222222222222, \"#7201a8\"], [0.3333333333333333, \"#9c179e\"], [0.4444444444444444, \"#bd3786\"], [0.5555555555555556, \"#d8576b\"], [0.6666666666666666, \"#ed7953\"], [0.7777777777777778, \"#fb9f3a\"], [0.8888888888888888, \"#fdca26\"], [1.0, \"#f0f921\"]], \"sequentialminus\": [[0.0, \"#0d0887\"], [0.1111111111111111, \"#46039f\"], [0.2222222222222222, \"#7201a8\"], [0.3333333333333333, \"#9c179e\"], [0.4444444444444444, \"#bd3786\"], [0.5555555555555556, \"#d8576b\"], [0.6666666666666666, \"#ed7953\"], [0.7777777777777778, \"#fb9f3a\"], [0.8888888888888888, \"#fdca26\"], [1.0, \"#f0f921\"]]}, \"colorway\": [\"#636efa\", \"#EF553B\", \"#00cc96\", \"#ab63fa\", \"#FFA15A\", \"#19d3f3\", \"#FF6692\", \"#B6E880\", \"#FF97FF\", \"#FECB52\"], \"font\": {\"color\": \"#2a3f5f\"}, \"geo\": {\"bgcolor\": \"white\", \"lakecolor\": \"white\", \"landcolor\": \"#E5ECF6\", \"showlakes\": true, \"showland\": true, \"subunitcolor\": \"white\"}, \"hoverlabel\": {\"align\": \"left\"}, \"hovermode\": \"closest\", \"mapbox\": {\"style\": \"light\"}, \"paper_bgcolor\": \"white\", \"plot_bgcolor\": \"#E5ECF6\", \"polar\": {\"angularaxis\": {\"gridcolor\": \"white\", \"linecolor\": \"white\", \"ticks\": \"\"}, \"bgcolor\": \"#E5ECF6\", \"radialaxis\": {\"gridcolor\": \"white\", \"linecolor\": \"white\", \"ticks\": \"\"}}, \"scene\": {\"xaxis\": {\"backgroundcolor\": \"#E5ECF6\", \"gridcolor\": \"white\", \"gridwidth\": 2, \"linecolor\": \"white\", \"showbackground\": true, \"ticks\": \"\", \"zerolinecolor\": \"white\"}, \"yaxis\": {\"backgroundcolor\": \"#E5ECF6\", \"gridcolor\": \"white\", \"gridwidth\": 2, \"linecolor\": \"white\", \"showbackground\": true, \"ticks\": \"\", \"zerolinecolor\": \"white\"}, \"zaxis\": {\"backgroundcolor\": \"#E5ECF6\", \"gridcolor\": \"white\", \"gridwidth\": 2, \"linecolor\": \"white\", \"showbackground\": true, \"ticks\": \"\", \"zerolinecolor\": \"white\"}}, \"shapedefaults\": {\"line\": {\"color\": \"#2a3f5f\"}}, \"ternary\": {\"aaxis\": {\"gridcolor\": \"white\", \"linecolor\": \"white\", \"ticks\": \"\"}, \"baxis\": {\"gridcolor\": \"white\", \"linecolor\": \"white\", \"ticks\": \"\"}, \"bgcolor\": \"#E5ECF6\", \"caxis\": {\"gridcolor\": \"white\", \"linecolor\": \"white\", \"ticks\": \"\"}}, \"title\": {\"x\": 0.05}, \"xaxis\": {\"automargin\": true, \"gridcolor\": \"white\", \"linecolor\": \"white\", \"ticks\": \"\", \"title\": {\"standoff\": 15}, \"zerolinecolor\": \"white\", \"zerolinewidth\": 2}, \"yaxis\": {\"automargin\": true, \"gridcolor\": \"white\", \"linecolor\": \"white\", \"ticks\": \"\", \"title\": {\"standoff\": 15}, \"zerolinecolor\": \"white\", \"zerolinewidth\": 2}}}, \"xaxis\": {\"showgrid\": false, \"showticklabels\": false, \"zeroline\": false}, \"yaxis\": {\"showgrid\": false, \"showticklabels\": false, \"zeroline\": false}},\n",
       "                        {\"responsive\": true}\n",
       "                    ).then(function(){\n",
       "                            \n",
       "var gd = document.getElementById('2778b413-e53f-4d8f-8b6c-e7f9b7cc24b0');\n",
       "var x = new MutationObserver(function (mutations, observer) {{\n",
       "        var display = window.getComputedStyle(gd).display;\n",
       "        if (!display || display === 'none') {{\n",
       "            console.log([gd, 'removed!']);\n",
       "            Plotly.purge(gd);\n",
       "            observer.disconnect();\n",
       "        }}\n",
       "}});\n",
       "\n",
       "// Listen for the removal of the full notebook cells\n",
       "var notebookContainer = gd.closest('#notebook-container');\n",
       "if (notebookContainer) {{\n",
       "    x.observe(notebookContainer, {childList: true});\n",
       "}}\n",
       "\n",
       "// Listen for the clearing of the current output cell\n",
       "var outputEl = gd.closest('.output');\n",
       "if (outputEl) {{\n",
       "    x.observe(outputEl, {childList: true});\n",
       "}}\n",
       "\n",
       "                        })\n",
       "                };\n",
       "                });\n",
       "            </script>\n",
       "        </div>"
      ]
     },
     "metadata": {},
     "output_type": "display_data"
    }
   ],
   "source": [
    "plot_network(network)"
   ]
  },
  {
   "cell_type": "code",
   "execution_count": null,
   "metadata": {},
   "outputs": [],
   "source": []
  }
 ],
 "metadata": {
  "kernelspec": {
   "display_name": "Python 3",
   "language": "python",
   "name": "python3"
  },
  "language_info": {
   "codemirror_mode": {
    "name": "ipython",
    "version": 3
   },
   "file_extension": ".py",
   "mimetype": "text/x-python",
   "name": "python",
   "nbconvert_exporter": "python",
   "pygments_lexer": "ipython3",
   "version": "3.6.8"
  }
 },
 "nbformat": 4,
 "nbformat_minor": 2
}
